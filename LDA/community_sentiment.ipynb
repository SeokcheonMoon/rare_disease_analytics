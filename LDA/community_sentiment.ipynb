{
 "cells": [
  {
   "cell_type": "code",
   "execution_count": 2,
   "id": "f3fadffb-7ec3-41c2-b0b2-346ac3f322da",
   "metadata": {},
   "outputs": [],
   "source": [
    "import pandas as pd\n",
    "import seaborn as sns\n",
    "import numpy as np\n",
    "import matplotlib.pyplot as plt\n",
    "import matplotlib as mpl\n",
    "mpl.rc('font', family='NanumBarunGothic') # 혹은 다른 설치한 Nanum 폰트 사용\n",
    "import scipy\n",
    "import scipy.stats as stats\n",
    "import pickle"
   ]
  },
  {
   "cell_type": "markdown",
   "id": "85545e69-0ac1-4d07-9992-b0cc2706b3ca",
   "metadata": {},
   "source": [
    "## 제안 3 : 연도별 커뮤니티 게시글에 있는 키워드에 대한 감성분석"
   ]
  },
  {
   "cell_type": "code",
   "execution_count": 3,
   "id": "757cd392-5b81-4228-8b23-a4dd44ffb4e3",
   "metadata": {},
   "outputs": [],
   "source": [
    "df_dcinside = pd.read_csv(\"./teamkim_datas.SNS_DCinside.csv\")\n",
    "df_helpline = pd.read_csv(\"./teamkim_datas.SNS_helpline.csv\")\n",
    "df_naver_symptom = pd.read_csv(\"./teamkim_datas.SNS_naver_kin_symptom.csv\")"
   ]
  },
  {
   "cell_type": "code",
   "execution_count": 4,
   "id": "b5520663-104c-49bc-878a-d9a8e85ec571",
   "metadata": {},
   "outputs": [],
   "source": [
    "df_dcinside[\"date\"] = pd.to_datetime(df_dcinside[\"date\"]).dt.strftime(\"%Y\")\n",
    "df_helpline[\"date\"] = pd.to_datetime(df_helpline[\"date\"]).dt.strftime(\"%Y\")\n",
    "df_naver_symptom['question_datetime'] = df_naver_symptom['question_datetime'].str.replace('작성일\\\\n', '').str.strip()\n",
    "# \"조회수\"라는 값이 포함되어있는 행을 모두 지우는 코드\n",
    "df_naver_symptom = df_naver_symptom[~df_naver_symptom['question_datetime'].str.contains('조회수')]\n",
    "df_naver_symptom['question_datetime'] = pd.to_datetime(df_naver_symptom['question_datetime']).dt.strftime(\"%Y\")\n",
    "df_naver_symptom = df_naver_symptom.reset_index()"
   ]
  },
  {
   "cell_type": "code",
   "execution_count": 5,
   "id": "9a403cf6-1e11-4df0-928c-66b5c6b460a4",
   "metadata": {},
   "outputs": [],
   "source": [
    "dc_2020_title = df_dcinside.query(\"date == '2020'\")[\"title\"].to_list()\n",
    "dc_2020_contents = df_dcinside.query(\"date == '2020'\")[\"contents\"].to_list()\n",
    "list_dc_2020 = dc_2020_title + dc_2020_contents\n",
    "helpline_2020_title = df_helpline.query(\"date == '2020'\")[\"title_disease\"].to_list()\n",
    "helpline_2020_post = df_helpline.query(\"date == '2020'\")[\"post_contents\"].to_list()\n",
    "helpline_2020_reply = df_helpline.query(\"date == '2020'\")[\"reply_contents\"].to_list()\n",
    "list_helpline_2020 = helpline_2020_title + helpline_2020_post + helpline_2020_reply\n",
    "naver_2020_title = df_naver_symptom.query(\"question_datetime == '2020'\")[\"question_title\"].to_list()\n",
    "naver_2020_question = df_naver_symptom.query(\"question_datetime == '2020'\")[\"question_content\"].to_list()\n",
    "naver_2020_answer = df_naver_symptom.query(\"question_datetime == '2020'\")[\"answer1_content\"].to_list()\n",
    "list_naver_2020 = naver_2020_title + naver_2020_question + naver_2020_answer\n",
    "list_2020 = list_dc_2020 + list_helpline_2020 + list_naver_2020"
   ]
  },
  {
   "cell_type": "code",
   "execution_count": 7,
   "id": "10353444-0a0b-4dbd-b7b6-ccf8c150d510",
   "metadata": {},
   "outputs": [],
   "source": [
    "dc_2022_title = df_dcinside.query(\"date == '2022'\")[\"title\"].to_list()\n",
    "dc_2022_contents = df_dcinside.query(\"date == '2022'\")[\"contents\"].to_list()\n",
    "list_dc_2022 = dc_2022_title + dc_2022_contents\n",
    "helpline_2022_title = df_helpline.query(\"date == '2022'\")[\"title_disease\"].to_list()\n",
    "helpline_2022_post = df_helpline.query(\"date == '2022'\")[\"post_contents\"].to_list()\n",
    "helpline_2022_reply = df_helpline.query(\"date == '2022'\")[\"reply_contents\"].to_list()\n",
    "list_helpline_2022 = helpline_2022_title + helpline_2022_post + helpline_2022_reply\n",
    "naver_2022_title = df_naver_symptom.query(\"question_datetime == '2022'\")[\"question_title\"].to_list()\n",
    "naver_2022_question = df_naver_symptom.query(\"question_datetime == '2022'\")[\"question_content\"].to_list()\n",
    "naver_2022_answer = df_naver_symptom.query(\"question_datetime == '2022'\")[\"answer1_content\"].to_list()\n",
    "list_naver_2022 = naver_2022_title + naver_2022_question + naver_2022_answer\n",
    "list_2022 = list_dc_2022 + list_helpline_2022 + list_naver_2022"
   ]
  },
  {
   "cell_type": "code",
   "execution_count": 8,
   "id": "bdedef3d-3302-4a8f-80ef-bdee49adc57b",
   "metadata": {},
   "outputs": [],
   "source": [
    "dc_2023_title = df_dcinside.query(\"date == '2023'\")[\"title\"].to_list()\n",
    "dc_2023_contents = df_dcinside.query(\"date == '2023'\")[\"contents\"].to_list()\n",
    "list_dc_2023 = dc_2023_title + dc_2023_contents\n",
    "helpline_2023_title = df_helpline.query(\"date == '2023'\")[\"title_disease\"].to_list()\n",
    "helpline_2023_post = df_helpline.query(\"date == '2023'\")[\"post_contents\"].to_list()\n",
    "helpline_2023_reply = df_helpline.query(\"date == '2023'\")[\"reply_contents\"].to_list()\n",
    "list_helpline_2023 = helpline_2023_title + helpline_2023_post + helpline_2023_reply\n",
    "naver_2023_title = df_naver_symptom.query(\"question_datetime == '2023'\")[\"question_title\"].to_list()\n",
    "naver_2023_question = df_naver_symptom.query(\"question_datetime == '2023'\")[\"question_content\"].to_list()\n",
    "naver_2023_answer = df_naver_symptom.query(\"question_datetime == '2023'\")[\"answer1_content\"].to_list()\n",
    "list_naver_2023 = naver_2023_title + naver_2023_question + naver_2023_answer\n",
    "list_2023 = list_dc_2023 + list_helpline_2023 + list_naver_2023"
   ]
  },
  {
   "cell_type": "code",
   "execution_count": 9,
   "id": "537c2166-5937-4779-89d0-c0a83c42b729",
   "metadata": {},
   "outputs": [],
   "source": [
    "dc_2024_title = df_dcinside.query(\"date == '2024'\")[\"title\"].to_list()\n",
    "dc_2024_contents = df_dcinside.query(\"date == '2024'\")[\"contents\"].to_list()\n",
    "list_dc_2024 = dc_2024_title + dc_2024_contents\n",
    "helpline_2024_title = df_helpline.query(\"date == '2024'\")[\"title_disease\"].to_list()\n",
    "helpline_2024_post = df_helpline.query(\"date == '2024'\")[\"post_contents\"].to_list()\n",
    "helpline_2024_reply = df_helpline.query(\"date == '2024'\")[\"reply_contents\"].to_list()\n",
    "list_helpline_2024 = helpline_2024_title + helpline_2024_post + helpline_2024_reply\n",
    "naver_2024_title = df_naver_symptom.query(\"question_datetime == '2024'\")[\"question_title\"].to_list()\n",
    "naver_2024_question = df_naver_symptom.query(\"question_datetime == '2024'\")[\"question_content\"].to_list()\n",
    "naver_2024_answer = df_naver_symptom.query(\"question_datetime == '2024'\")[\"answer1_content\"].to_list()\n",
    "list_naver_2024 = naver_2024_title + naver_2024_question + naver_2024_answer\n",
    "list_2024 = list_dc_2024 + list_helpline_2024 + list_naver_2024"
   ]
  },
  {
   "cell_type": "code",
   "execution_count": 11,
   "id": "636bfb0d-0305-4245-8caa-28c4ca278216",
   "metadata": {},
   "outputs": [
    {
     "name": "stdout",
     "output_type": "stream",
     "text": [
      "Requirement already satisfied: textblob in /usr/local/lib/python3.11/site-packages (0.18.0.post0)\n",
      "Requirement already satisfied: nltk>=3.8 in /usr/local/lib/python3.11/site-packages (from textblob) (3.8.1)\n",
      "Requirement already satisfied: click in /usr/local/lib/python3.11/site-packages (from nltk>=3.8->textblob) (8.1.7)\n",
      "Requirement already satisfied: joblib in /usr/local/lib/python3.11/site-packages (from nltk>=3.8->textblob) (1.3.2)\n",
      "Requirement already satisfied: regex>=2021.8.3 in /usr/local/lib/python3.11/site-packages (from nltk>=3.8->textblob) (2023.12.25)\n",
      "Requirement already satisfied: tqdm in /usr/local/lib/python3.11/site-packages (from nltk>=3.8->textblob) (4.66.2)\n",
      "\u001b[33mWARNING: Running pip as the 'root' user can result in broken permissions and conflicting behaviour with the system package manager. It is recommended to use a virtual environment instead: https://pip.pypa.io/warnings/venv\u001b[0m\u001b[33m\n",
      "\u001b[0mNote: you may need to restart the kernel to use updated packages.\n"
     ]
    }
   ],
   "source": [
    "pip install textblob"
   ]
  },
  {
   "cell_type": "code",
   "execution_count": 22,
   "id": "bd49c435-e4e8-4f54-bc44-9abf32aff253",
   "metadata": {},
   "outputs": [
    {
     "name": "stdout",
     "output_type": "stream",
     "text": [
      "긍정적 문장의 수: 5\n",
      "부정적 문장의 수: 11\n",
      "중립적 문장의 수: 406\n"
     ]
    }
   ],
   "source": [
    "from textblob import TextBlob\n",
    "\n",
    "# 분석할 문장들의 리스트 = list_2020\n",
    "\n",
    "# 감정 분석 결과를 저장할 딕셔너리 초기화\n",
    "sentiment_counts_2020 = {'Positive': 0, 'Negative': 0, 'Neutral': 0}\n",
    "\n",
    "# 각 문장에 대한 감정 분석\n",
    "for sentence in list_2020:\n",
    "    blob = TextBlob(sentence)\n",
    "    sentiment = blob.sentiment.polarity\n",
    "    # 감정 평가를 바탕으로 빈도수 계산\n",
    "    if sentiment > 0:\n",
    "        sentiment_counts_2020['Positive'] += 1\n",
    "    elif sentiment < 0:\n",
    "        sentiment_counts_2020['Negative'] += 1\n",
    "    else:\n",
    "        sentiment_counts_2020['Neutral'] += 1\n",
    "\n",
    "# 결과 출력\n",
    "print(f\"긍정적 문장의 수: {sentiment_counts_2020['Positive']}\")\n",
    "print(f\"부정적 문장의 수: {sentiment_counts_2020['Negative']}\")\n",
    "print(f\"중립적 문장의 수: {sentiment_counts_2020['Neutral']}\")"
   ]
  },
  {
   "cell_type": "code",
   "execution_count": 23,
   "id": "c898a3e5-009d-4b9a-9533-68c9b26c0552",
   "metadata": {},
   "outputs": [
    {
     "name": "stdout",
     "output_type": "stream",
     "text": [
      "긍정적 문장의 수: 3\n",
      "부정적 문장의 수: 5\n",
      "중립적 문장의 수: 624\n"
     ]
    }
   ],
   "source": [
    "# 분석할 문장들의 리스트 = list_2022\n",
    "\n",
    "# 감정 분석 결과를 저장할 딕셔너리 초기화\n",
    "sentiment_counts_2022 = {'Positive': 0, 'Negative': 0, 'Neutral': 0}\n",
    "\n",
    "# 각 문장에 대한 감정 분석\n",
    "for sentence in list_2022:\n",
    "    blob = TextBlob(sentence)\n",
    "    sentiment = blob.sentiment.polarity\n",
    "    # 감정 평가를 바탕으로 빈도수 계산\n",
    "    if sentiment > 0:\n",
    "        sentiment_counts_2022['Positive'] += 1\n",
    "    elif sentiment < 0:\n",
    "        sentiment_counts_2022['Negative'] += 1\n",
    "    else:\n",
    "        sentiment_counts_2022['Neutral'] += 1\n",
    "\n",
    "# 결과 출력\n",
    "print(f\"긍정적 문장의 수: {sentiment_counts_2022['Positive']}\")\n",
    "print(f\"부정적 문장의 수: {sentiment_counts_2022['Negative']}\")\n",
    "print(f\"중립적 문장의 수: {sentiment_counts_2022['Neutral']}\")"
   ]
  },
  {
   "cell_type": "code",
   "execution_count": 24,
   "id": "f890dca0-9f00-493d-947c-d7d81d12fc00",
   "metadata": {},
   "outputs": [
    {
     "name": "stdout",
     "output_type": "stream",
     "text": [
      "긍정적 문장의 수: 5\n",
      "부정적 문장의 수: 10\n",
      "중립적 문장의 수: 1422\n"
     ]
    }
   ],
   "source": [
    "# 분석할 문장들의 리스트 = list_2023\n",
    "\n",
    "# 감정 분석 결과를 저장할 딕셔너리 초기화\n",
    "sentiment_counts_2023 = {'Positive': 0, 'Negative': 0, 'Neutral': 0}\n",
    "\n",
    "# 각 문장에 대한 감정 분석\n",
    "for sentence in list_2023:\n",
    "    sentence_str = str(sentence)\n",
    "    blob = TextBlob(sentence_str)\n",
    "    sentiment = blob.sentiment.polarity\n",
    "    # 감정 평가를 바탕으로 빈도수 계산\n",
    "    if sentiment > 0:\n",
    "        sentiment_counts_2023['Positive'] += 1\n",
    "    elif sentiment < 0:\n",
    "        sentiment_counts_2023['Negative'] += 1\n",
    "    else:\n",
    "        sentiment_counts_2023['Neutral'] += 1\n",
    "\n",
    "# 결과 출력\n",
    "print(f\"긍정적 문장의 수: {sentiment_counts_2023['Positive']}\")\n",
    "print(f\"부정적 문장의 수: {sentiment_counts_2023['Negative']}\")\n",
    "print(f\"중립적 문장의 수: {sentiment_counts_2023['Neutral']}\")"
   ]
  },
  {
   "cell_type": "code",
   "execution_count": 25,
   "id": "93aea3a0-762b-4d25-8aba-c1c13713f892",
   "metadata": {},
   "outputs": [
    {
     "name": "stdout",
     "output_type": "stream",
     "text": [
      "긍정적 문장의 수: 0\n",
      "부정적 문장의 수: 5\n",
      "중립적 문장의 수: 325\n"
     ]
    }
   ],
   "source": [
    "# 분석할 문장들의 리스트 = list_2024\n",
    "\n",
    "# 감정 분석 결과를 저장할 딕셔너리 초기화\n",
    "sentiment_counts_2024 = {'Positive': 0, 'Negative': 0, 'Neutral': 0}\n",
    "\n",
    "# 각 문장에 대한 감정 분석\n",
    "for sentence in list_2024:\n",
    "    sentence_str = str(sentence)\n",
    "    blob = TextBlob(sentence_str)\n",
    "    sentiment = blob.sentiment.polarity\n",
    "    # 감정 평가를 바탕으로 빈도수 계산\n",
    "    if sentiment > 0:\n",
    "        sentiment_counts_2024['Positive'] += 1\n",
    "    elif sentiment < 0:\n",
    "        sentiment_counts_2024['Negative'] += 1\n",
    "    else:\n",
    "        sentiment_counts_2024['Neutral'] += 1\n",
    "\n",
    "# 결과 출력\n",
    "print(f\"긍정적 문장의 수: {sentiment_counts_2024['Positive']}\")\n",
    "print(f\"부정적 문장의 수: {sentiment_counts_2024['Negative']}\")\n",
    "print(f\"중립적 문장의 수: {sentiment_counts_2024['Neutral']}\")"
   ]
  },
  {
   "cell_type": "code",
   "execution_count": 26,
   "id": "f51ab89b-64ef-4273-a5aa-c0195be1e0c0",
   "metadata": {},
   "outputs": [
    {
     "data": {
      "text/plain": [
       "{'Positive': 5, 'Negative': 11, 'Neutral': 406}"
      ]
     },
     "execution_count": 26,
     "metadata": {},
     "output_type": "execute_result"
    }
   ],
   "source": [
    "sentiment_counts_2020"
   ]
  },
  {
   "cell_type": "code",
   "execution_count": 32,
   "id": "e179b870-ccfa-43a6-98ee-7781f90d353c",
   "metadata": {},
   "outputs": [
    {
     "data": {
      "image/png": "[encoded data removed]",
      "text/plain": [
       "<Figure size 640x480 with 1 Axes>"
      ]
     },
     "metadata": {},
     "output_type": "display_data"
    }
   ],
   "source": [
    "labels = sentiment_counts_2020.keys()\n",
    "values = sentiment_counts_2020.values()\n",
    "bars = plt.bar(labels, values)\n",
    "for bar in bars:\n",
    "    yval = bar.get_height()\n",
    "    plt.text(bar.get_x() + bar.get_width()/2, yval, int(yval), ha='center', va='bottom')\n",
    "plt.show()"
   ]
  },
  {
   "cell_type": "code",
   "execution_count": 31,
   "id": "a5e3ae67-6484-4972-ac29-65394685ee17",
   "metadata": {},
   "outputs": [
    {
     "data": {
      "image/png": "[encoded data removed]",
      "text/plain": [
       "<Figure size 640x480 with 1 Axes>"
      ]
     },
     "metadata": {},
     "output_type": "display_data"
    }
   ],
   "source": [
    "labels = sentiment_counts_2022.keys()\n",
    "values = sentiment_counts_2022.values()\n",
    "bars = plt.bar(labels, values)\n",
    "for bar in bars:\n",
    "    yval = bar.get_height()\n",
    "    plt.text(bar.get_x() + bar.get_width()/2, yval, int(yval), ha='center', va='bottom')\n",
    "plt.show()"
   ]
  },
  {
   "cell_type": "code",
   "execution_count": 33,
   "id": "b4b026cf-d8f2-44d3-b636-9d9e4e431e86",
   "metadata": {},
   "outputs": [
    {
     "data": {
      "image/png": "[encoded data removed]",
      "text/plain": [
       "<Figure size 640x480 with 1 Axes>"
      ]
     },
     "metadata": {},
     "output_type": "display_data"
    }
   ],
   "source": [
    "labels = sentiment_counts_2023.keys()\n",
    "values = sentiment_counts_2023.values()\n",
    "bars = plt.bar(labels, values)\n",
    "for bar in bars:\n",
    "    yval = bar.get_height()\n",
    "    plt.text(bar.get_x() + bar.get_width()/2, yval, int(yval), ha='center', va='bottom')\n",
    "plt.show()"
   ]
  },
  {
   "cell_type": "code",
   "execution_count": 34,
   "id": "7f2f9ba0-b8d5-48c1-8986-50bde2599da3",
   "metadata": {},
   "outputs": [
    {
     "data": {
      "image/png": "[encoded data removed]",
      "text/plain": [
       "<Figure size 640x480 with 1 Axes>"
      ]
     },
     "metadata": {},
     "output_type": "display_data"
    }
   ],
   "source": [
    "labels = sentiment_counts_2024.keys()\n",
    "values = sentiment_counts_2024.values()\n",
    "bars = plt.bar(labels, values)\n",
    "for bar in bars:\n",
    "    yval = bar.get_height()\n",
    "    plt.text(bar.get_x() + bar.get_width()/2, yval, int(yval), ha='center', va='bottom')\n",
    "plt.show()"
   ]
  }
 ],
 "metadata": {
  "kernelspec": {
   "display_name": "Python 3 (ipykernel)",
   "language": "python",
   "name": "python3"
  },
  "language_info": {
   "codemirror_mode": {
    "name": "ipython",
    "version": 3
   },
   "file_extension": ".py",
   "mimetype": "text/x-python",
   "name": "python",
   "nbconvert_exporter": "python",
   "pygments_lexer": "ipython3",
   "version": "3.11.8"
  }
 },
 "nbformat": 4,
 "nbformat_minor": 5
}
