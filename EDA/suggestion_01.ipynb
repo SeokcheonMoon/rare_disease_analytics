{
 "cells": [
  {
   "cell_type": "code",
   "execution_count": 1,
   "id": "4e984597-8a66-4af9-b8dc-ad28f8dc37b5",
   "metadata": {},
   "outputs": [],
   "source": [
    "import pandas as pd\n",
    "import seaborn as sns\n",
    "import numpy as np\n",
    "import matplotlib.pyplot as plt\n",
    "import matplotlib as mpl\n",
    "mpl.rc('font', family='NanumBarunGothic') # 혹은 다른 설치한 Nanum 폰트 사용\n",
    "import scipy\n",
    "import scipy.stats as stats\n",
    "import pickle"
   ]
  },
  {
   "cell_type": "code",
   "execution_count": 2,
   "id": "4c383234-2be4-4257-a100-4a9e7838f13a",
   "metadata": {},
   "outputs": [],
   "source": [
    "df_NewsAll = pd.read_csv(\"./teamkim_datas.NEWS_ALL.csv\")\n",
    "df_healthjosun = pd.read_csv(\"./teamkim_datas.NEWS_healthjosun.csv\")\n",
    "df_komedi = pd.read_csv(\"./teamkim_datas.NEWS_komedi.csv\")\n",
    "df_mbc = pd.read_csv(\"./teamkim_datas.NEWS_mbc.csv\")\n",
    "df_dcinside = pd.read_csv(\"./teamkim_datas.SNS_DCinside.csv\")\n",
    "df_helpline = pd.read_csv(\"./teamkim_datas.SNS_helpline.csv\")"
   ]
  },
  {
   "cell_type": "markdown",
   "id": "21dd4b98-2ee9-4020-b4c8-27fe1f2074ca",
   "metadata": {},
   "source": [
    "### 분석 1 : 희귀질환에 관한 관심도의 시기적 변화 추이 파악"
   ]
  },
  {
   "cell_type": "markdown",
   "id": "a9ddb015-d7a4-4cea-9cc9-8859cb9a0501",
   "metadata": {},
   "source": [
    "#### 데이터 정제"
   ]
  },
  {
   "cell_type": "code",
   "execution_count": 3,
   "id": "783b6c4b-4d6d-4cb5-8d51-0e508a84af54",
   "metadata": {
    "scrolled": true
   },
   "outputs": [
    {
     "data": {
      "text/plain": [
       "0       Fri, 23 Feb 2024 16:44:00 +0900\n",
       "1       Fri, 23 Feb 2024 16:44:00 +0900\n",
       "2       Fri, 23 Feb 2024 16:36:00 +0900\n",
       "3       Fri, 23 Feb 2024 16:32:00 +0900\n",
       "4       Fri, 23 Feb 2024 16:28:00 +0900\n",
       "                     ...               \n",
       "9995    Tue, 13 Feb 2024 09:08:00 +0900\n",
       "9996    Tue, 13 Feb 2024 09:08:00 +0900\n",
       "9997    Tue, 13 Feb 2024 09:06:00 +0900\n",
       "9998    Tue, 13 Feb 2024 09:05:00 +0900\n",
       "9999    Tue, 13 Feb 2024 09:04:00 +0900\n",
       "Name: pubDate, Length: 10000, dtype: object"
      ]
     },
     "execution_count": 3,
     "metadata": {},
     "output_type": "execute_result"
    }
   ],
   "source": [
    "df_NewsAll[\"pubDate\"]"
   ]
  },
  {
   "cell_type": "code",
   "execution_count": 4,
   "id": "19760197-b96d-46c3-86db-fcb855f654f9",
   "metadata": {},
   "outputs": [
    {
     "data": {
      "text/html": [
       "<div>\n",
       "<style scoped>\n",
       "    .dataframe tbody tr th:only-of-type {\n",
       "        vertical-align: middle;\n",
       "    }\n",
       "\n",
       "    .dataframe tbody tr th {\n",
       "        vertical-align: top;\n",
       "    }\n",
       "\n",
       "    .dataframe thead th {\n",
       "        text-align: right;\n",
       "    }\n",
       "</style>\n",
       "<table border=\"1\" class=\"dataframe\">\n",
       "  <thead>\n",
       "    <tr style=\"text-align: right;\">\n",
       "      <th></th>\n",
       "      <th>pubDate</th>\n",
       "    </tr>\n",
       "  </thead>\n",
       "  <tbody>\n",
       "    <tr>\n",
       "      <th>0</th>\n",
       "      <td>2024/02/23</td>\n",
       "    </tr>\n",
       "    <tr>\n",
       "      <th>1</th>\n",
       "      <td>2024/02/23</td>\n",
       "    </tr>\n",
       "    <tr>\n",
       "      <th>2</th>\n",
       "      <td>2024/02/23</td>\n",
       "    </tr>\n",
       "    <tr>\n",
       "      <th>3</th>\n",
       "      <td>2024/02/23</td>\n",
       "    </tr>\n",
       "    <tr>\n",
       "      <th>4</th>\n",
       "      <td>2024/02/23</td>\n",
       "    </tr>\n",
       "    <tr>\n",
       "      <th>...</th>\n",
       "      <td>...</td>\n",
       "    </tr>\n",
       "    <tr>\n",
       "      <th>9995</th>\n",
       "      <td>2024/02/13</td>\n",
       "    </tr>\n",
       "    <tr>\n",
       "      <th>9996</th>\n",
       "      <td>2024/02/13</td>\n",
       "    </tr>\n",
       "    <tr>\n",
       "      <th>9997</th>\n",
       "      <td>2024/02/13</td>\n",
       "    </tr>\n",
       "    <tr>\n",
       "      <th>9998</th>\n",
       "      <td>2024/02/13</td>\n",
       "    </tr>\n",
       "    <tr>\n",
       "      <th>9999</th>\n",
       "      <td>2024/02/13</td>\n",
       "    </tr>\n",
       "  </tbody>\n",
       "</table>\n",
       "<p>10000 rows × 1 columns</p>\n",
       "</div>"
      ],
      "text/plain": [
       "         pubDate\n",
       "0     2024/02/23\n",
       "1     2024/02/23\n",
       "2     2024/02/23\n",
       "3     2024/02/23\n",
       "4     2024/02/23\n",
       "...          ...\n",
       "9995  2024/02/13\n",
       "9996  2024/02/13\n",
       "9997  2024/02/13\n",
       "9998  2024/02/13\n",
       "9999  2024/02/13\n",
       "\n",
       "[10000 rows x 1 columns]"
      ]
     },
     "execution_count": 4,
     "metadata": {},
     "output_type": "execute_result"
    }
   ],
   "source": [
    "df_NewsAll_date = pd.to_datetime(df_NewsAll[\"pubDate\"]).dt.strftime(\"%Y/%m/%d\")\n",
    "df_NewsAll_date = pd.DataFrame(df_NewsAll_date)\n",
    "df_NewsAll_date"
   ]
  },
  {
   "cell_type": "code",
   "execution_count": 5,
   "id": "1890a2b2-0cd6-4e79-9112-c9c2357cc14e",
   "metadata": {},
   "outputs": [
    {
     "data": {
      "text/plain": [
       "0      입력 2024.02.26 15:43\n",
       "1      입력 2024.02.18 06:00\n",
       "2      입력 2024.02.19 06:00\n",
       "3      입력 2024.02.19 06:00\n",
       "4      입력 2024.02.13 15:10\n",
       "              ...         \n",
       "213    입력 2023.07.21 11:23\n",
       "214    입력 2023.07.21 11:23\n",
       "215    입력 2023.05.02 14:04\n",
       "216    입력 2023.03.29 08:30\n",
       "217    입력 2023.03.10 15:51\n",
       "Name: news_time, Length: 218, dtype: object"
      ]
     },
     "execution_count": 5,
     "metadata": {},
     "output_type": "execute_result"
    }
   ],
   "source": [
    "df_healthjosun[\"news_time\"]"
   ]
  },
  {
   "cell_type": "code",
   "execution_count": 6,
   "id": "7226f5ee-5118-4a86-a8af-01a317455617",
   "metadata": {
    "jupyter": {
     "source_hidden": true
    }
   },
   "outputs": [
    {
     "data": {
      "text/html": [
       "<div>\n",
       "<style scoped>\n",
       "    .dataframe tbody tr th:only-of-type {\n",
       "        vertical-align: middle;\n",
       "    }\n",
       "\n",
       "    .dataframe tbody tr th {\n",
       "        vertical-align: top;\n",
       "    }\n",
       "\n",
       "    .dataframe thead th {\n",
       "        text-align: right;\n",
       "    }\n",
       "</style>\n",
       "<table border=\"1\" class=\"dataframe\">\n",
       "  <thead>\n",
       "    <tr style=\"text-align: right;\">\n",
       "      <th></th>\n",
       "      <th>news_time</th>\n",
       "    </tr>\n",
       "  </thead>\n",
       "  <tbody>\n",
       "    <tr>\n",
       "      <th>0</th>\n",
       "      <td>2024/02/26</td>\n",
       "    </tr>\n",
       "    <tr>\n",
       "      <th>1</th>\n",
       "      <td>2024/02/18</td>\n",
       "    </tr>\n",
       "    <tr>\n",
       "      <th>2</th>\n",
       "      <td>2024/02/19</td>\n",
       "    </tr>\n",
       "    <tr>\n",
       "      <th>3</th>\n",
       "      <td>2024/02/19</td>\n",
       "    </tr>\n",
       "    <tr>\n",
       "      <th>4</th>\n",
       "      <td>2024/02/13</td>\n",
       "    </tr>\n",
       "    <tr>\n",
       "      <th>...</th>\n",
       "      <td>...</td>\n",
       "    </tr>\n",
       "    <tr>\n",
       "      <th>213</th>\n",
       "      <td>2023/07/21</td>\n",
       "    </tr>\n",
       "    <tr>\n",
       "      <th>214</th>\n",
       "      <td>2023/07/21</td>\n",
       "    </tr>\n",
       "    <tr>\n",
       "      <th>215</th>\n",
       "      <td>2023/05/02</td>\n",
       "    </tr>\n",
       "    <tr>\n",
       "      <th>216</th>\n",
       "      <td>2023/03/29</td>\n",
       "    </tr>\n",
       "    <tr>\n",
       "      <th>217</th>\n",
       "      <td>2023/03/10</td>\n",
       "    </tr>\n",
       "  </tbody>\n",
       "</table>\n",
       "<p>218 rows × 1 columns</p>\n",
       "</div>"
      ],
      "text/plain": [
       "      news_time\n",
       "0    2024/02/26\n",
       "1    2024/02/18\n",
       "2    2024/02/19\n",
       "3    2024/02/19\n",
       "4    2024/02/13\n",
       "..          ...\n",
       "213  2023/07/21\n",
       "214  2023/07/21\n",
       "215  2023/05/02\n",
       "216  2023/03/29\n",
       "217  2023/03/10\n",
       "\n",
       "[218 rows x 1 columns]"
      ]
     },
     "execution_count": 6,
     "metadata": {},
     "output_type": "execute_result"
    }
   ],
   "source": [
    "df_healthjosun['news_time'] = df_healthjosun['news_time'].str.replace('입력', '').str.strip()\n",
    "df_healthjosun_date = pd.to_datetime(df_healthjosun[\"news_time\"]).dt.strftime(\"%Y/%m/%d\")\n",
    "df_healthjosun_date = pd.DataFrame(df_healthjosun_date)\n",
    "df_healthjosun_date"
   ]
  },
  {
   "cell_type": "code",
   "execution_count": 7,
   "id": "44c493f9-428e-436d-bf85-680ed5b68fb3",
   "metadata": {},
   "outputs": [
    {
     "data": {
      "text/plain": [
       "0      2024.02.12 12:44\n",
       "1      2024.01.29 18:32\n",
       "2      2024.02.02 15:40\n",
       "3      2024.01.22 13:38\n",
       "4      2024.01.24 14:14\n",
       "             ...       \n",
       "877    2011.03.18 11:07\n",
       "878    2010.06.11 20:55\n",
       "879    2009.11.23 14:31\n",
       "880    2009.02.20 12:57\n",
       "881    2009.02.01 15:59\n",
       "Name: news_time, Length: 882, dtype: object"
      ]
     },
     "execution_count": 7,
     "metadata": {},
     "output_type": "execute_result"
    }
   ],
   "source": [
    "df_komedi[\"news_time\"]"
   ]
  },
  {
   "cell_type": "code",
   "execution_count": 8,
   "id": "9fb4b924-4b59-468d-961e-2e0c9a1ffdf5",
   "metadata": {},
   "outputs": [
    {
     "data": {
      "text/html": [
       "<div>\n",
       "<style scoped>\n",
       "    .dataframe tbody tr th:only-of-type {\n",
       "        vertical-align: middle;\n",
       "    }\n",
       "\n",
       "    .dataframe tbody tr th {\n",
       "        vertical-align: top;\n",
       "    }\n",
       "\n",
       "    .dataframe thead th {\n",
       "        text-align: right;\n",
       "    }\n",
       "</style>\n",
       "<table border=\"1\" class=\"dataframe\">\n",
       "  <thead>\n",
       "    <tr style=\"text-align: right;\">\n",
       "      <th></th>\n",
       "      <th>news_time</th>\n",
       "    </tr>\n",
       "  </thead>\n",
       "  <tbody>\n",
       "    <tr>\n",
       "      <th>0</th>\n",
       "      <td>2024/02/12</td>\n",
       "    </tr>\n",
       "    <tr>\n",
       "      <th>1</th>\n",
       "      <td>2024/01/29</td>\n",
       "    </tr>\n",
       "    <tr>\n",
       "      <th>2</th>\n",
       "      <td>2024/02/02</td>\n",
       "    </tr>\n",
       "    <tr>\n",
       "      <th>3</th>\n",
       "      <td>2024/01/22</td>\n",
       "    </tr>\n",
       "    <tr>\n",
       "      <th>4</th>\n",
       "      <td>2024/01/24</td>\n",
       "    </tr>\n",
       "    <tr>\n",
       "      <th>...</th>\n",
       "      <td>...</td>\n",
       "    </tr>\n",
       "    <tr>\n",
       "      <th>877</th>\n",
       "      <td>2011/03/18</td>\n",
       "    </tr>\n",
       "    <tr>\n",
       "      <th>878</th>\n",
       "      <td>2010/06/11</td>\n",
       "    </tr>\n",
       "    <tr>\n",
       "      <th>879</th>\n",
       "      <td>2009/11/23</td>\n",
       "    </tr>\n",
       "    <tr>\n",
       "      <th>880</th>\n",
       "      <td>2009/02/20</td>\n",
       "    </tr>\n",
       "    <tr>\n",
       "      <th>881</th>\n",
       "      <td>2009/02/01</td>\n",
       "    </tr>\n",
       "  </tbody>\n",
       "</table>\n",
       "<p>882 rows × 1 columns</p>\n",
       "</div>"
      ],
      "text/plain": [
       "      news_time\n",
       "0    2024/02/12\n",
       "1    2024/01/29\n",
       "2    2024/02/02\n",
       "3    2024/01/22\n",
       "4    2024/01/24\n",
       "..          ...\n",
       "877  2011/03/18\n",
       "878  2010/06/11\n",
       "879  2009/11/23\n",
       "880  2009/02/20\n",
       "881  2009/02/01\n",
       "\n",
       "[882 rows x 1 columns]"
      ]
     },
     "execution_count": 8,
     "metadata": {},
     "output_type": "execute_result"
    }
   ],
   "source": [
    "df_komedi_date = pd.to_datetime(df_komedi[\"news_time\"]).dt.strftime(\"%Y/%m/%d\")\n",
    "df_komedi_date = pd.DataFrame(df_komedi_date)\n",
    "df_komedi_date"
   ]
  },
  {
   "cell_type": "code",
   "execution_count": 9,
   "id": "76ccc8a3-cb39-4b8e-b00f-8761d9b63d25",
   "metadata": {},
   "outputs": [
    {
     "data": {
      "text/plain": [
       "0      입력 2023-12-29 17:10\n",
       "1      입력 2023-11-30 14:51\n",
       "2      입력 2023-10-11 17:36\n",
       "3      입력 2023-12-19 11:48\n",
       "4      입력 2023-08-03 07:24\n",
       "              ...         \n",
       "374    입력 2016-04-25 06:16\n",
       "375    입력 2016-04-25 06:16\n",
       "376    입력 2016-04-25 06:16\n",
       "377    입력 2016-04-25 06:16\n",
       "378    입력 2016-04-25 06:16\n",
       "Name: news_time, Length: 379, dtype: object"
      ]
     },
     "execution_count": 9,
     "metadata": {},
     "output_type": "execute_result"
    }
   ],
   "source": [
    "df_mbc['news_time']"
   ]
  },
  {
   "cell_type": "code",
   "execution_count": 10,
   "id": "8fa86a3a-fae3-46a9-87e7-b8879f0236df",
   "metadata": {},
   "outputs": [
    {
     "data": {
      "text/html": [
       "<div>\n",
       "<style scoped>\n",
       "    .dataframe tbody tr th:only-of-type {\n",
       "        vertical-align: middle;\n",
       "    }\n",
       "\n",
       "    .dataframe tbody tr th {\n",
       "        vertical-align: top;\n",
       "    }\n",
       "\n",
       "    .dataframe thead th {\n",
       "        text-align: right;\n",
       "    }\n",
       "</style>\n",
       "<table border=\"1\" class=\"dataframe\">\n",
       "  <thead>\n",
       "    <tr style=\"text-align: right;\">\n",
       "      <th></th>\n",
       "      <th>news_time</th>\n",
       "    </tr>\n",
       "  </thead>\n",
       "  <tbody>\n",
       "    <tr>\n",
       "      <th>0</th>\n",
       "      <td>2023/12/29</td>\n",
       "    </tr>\n",
       "    <tr>\n",
       "      <th>1</th>\n",
       "      <td>2023/11/30</td>\n",
       "    </tr>\n",
       "    <tr>\n",
       "      <th>2</th>\n",
       "      <td>2023/10/11</td>\n",
       "    </tr>\n",
       "    <tr>\n",
       "      <th>3</th>\n",
       "      <td>2023/12/19</td>\n",
       "    </tr>\n",
       "    <tr>\n",
       "      <th>4</th>\n",
       "      <td>2023/08/03</td>\n",
       "    </tr>\n",
       "    <tr>\n",
       "      <th>...</th>\n",
       "      <td>...</td>\n",
       "    </tr>\n",
       "    <tr>\n",
       "      <th>374</th>\n",
       "      <td>2016/04/25</td>\n",
       "    </tr>\n",
       "    <tr>\n",
       "      <th>375</th>\n",
       "      <td>2016/04/25</td>\n",
       "    </tr>\n",
       "    <tr>\n",
       "      <th>376</th>\n",
       "      <td>2016/04/25</td>\n",
       "    </tr>\n",
       "    <tr>\n",
       "      <th>377</th>\n",
       "      <td>2016/04/25</td>\n",
       "    </tr>\n",
       "    <tr>\n",
       "      <th>378</th>\n",
       "      <td>2016/04/25</td>\n",
       "    </tr>\n",
       "  </tbody>\n",
       "</table>\n",
       "<p>379 rows × 1 columns</p>\n",
       "</div>"
      ],
      "text/plain": [
       "      news_time\n",
       "0    2023/12/29\n",
       "1    2023/11/30\n",
       "2    2023/10/11\n",
       "3    2023/12/19\n",
       "4    2023/08/03\n",
       "..          ...\n",
       "374  2016/04/25\n",
       "375  2016/04/25\n",
       "376  2016/04/25\n",
       "377  2016/04/25\n",
       "378  2016/04/25\n",
       "\n",
       "[379 rows x 1 columns]"
      ]
     },
     "execution_count": 10,
     "metadata": {},
     "output_type": "execute_result"
    }
   ],
   "source": [
    "df_mbc['news_time'] = df_mbc['news_time'].str.replace('입력', '').str.strip()\n",
    "df_mbc_date = pd.to_datetime(df_mbc[\"news_time\"]).dt.strftime(\"%Y/%m/%d\")\n",
    "df_mbc_date = pd.DataFrame(df_mbc_date)\n",
    "df_mbc_date"
   ]
  },
  {
   "cell_type": "code",
   "execution_count": 11,
   "id": "c8fbf665-59fc-4805-a8ff-4b75cffa4ffa",
   "metadata": {},
   "outputs": [
    {
     "data": {
      "text/plain": [
       "0      2024.02.23 18:32:18\n",
       "1      2024.02.21 17:02:35\n",
       "2      2024.02.21 16:46:18\n",
       "3      2024.02.17 21:15:50\n",
       "4      2024.02.16 14:51:29\n",
       "              ...         \n",
       "484    2019.08.06 06:26:42\n",
       "485    2019.08.02 03:19:15\n",
       "486    2019.07.14 11:18:13\n",
       "487    2019.04.18 09:47:41\n",
       "488    2019.04.16 20:17:10\n",
       "Name: date, Length: 489, dtype: object"
      ]
     },
     "execution_count": 11,
     "metadata": {},
     "output_type": "execute_result"
    }
   ],
   "source": [
    "df_dcinside[\"date\"]"
   ]
  },
  {
   "cell_type": "code",
   "execution_count": 12,
   "id": "2329b05a-50e1-4428-bf38-7414e3705431",
   "metadata": {
    "jupyter": {
     "source_hidden": true
    }
   },
   "outputs": [
    {
     "data": {
      "text/html": [
       "<div>\n",
       "<style scoped>\n",
       "    .dataframe tbody tr th:only-of-type {\n",
       "        vertical-align: middle;\n",
       "    }\n",
       "\n",
       "    .dataframe tbody tr th {\n",
       "        vertical-align: top;\n",
       "    }\n",
       "\n",
       "    .dataframe thead th {\n",
       "        text-align: right;\n",
       "    }\n",
       "</style>\n",
       "<table border=\"1\" class=\"dataframe\">\n",
       "  <thead>\n",
       "    <tr style=\"text-align: right;\">\n",
       "      <th></th>\n",
       "      <th>date</th>\n",
       "    </tr>\n",
       "  </thead>\n",
       "  <tbody>\n",
       "    <tr>\n",
       "      <th>0</th>\n",
       "      <td>2024/02/23</td>\n",
       "    </tr>\n",
       "    <tr>\n",
       "      <th>1</th>\n",
       "      <td>2024/02/21</td>\n",
       "    </tr>\n",
       "    <tr>\n",
       "      <th>2</th>\n",
       "      <td>2024/02/21</td>\n",
       "    </tr>\n",
       "    <tr>\n",
       "      <th>3</th>\n",
       "      <td>2024/02/17</td>\n",
       "    </tr>\n",
       "    <tr>\n",
       "      <th>4</th>\n",
       "      <td>2024/02/16</td>\n",
       "    </tr>\n",
       "    <tr>\n",
       "      <th>...</th>\n",
       "      <td>...</td>\n",
       "    </tr>\n",
       "    <tr>\n",
       "      <th>484</th>\n",
       "      <td>2019/08/06</td>\n",
       "    </tr>\n",
       "    <tr>\n",
       "      <th>485</th>\n",
       "      <td>2019/08/02</td>\n",
       "    </tr>\n",
       "    <tr>\n",
       "      <th>486</th>\n",
       "      <td>2019/07/14</td>\n",
       "    </tr>\n",
       "    <tr>\n",
       "      <th>487</th>\n",
       "      <td>2019/04/18</td>\n",
       "    </tr>\n",
       "    <tr>\n",
       "      <th>488</th>\n",
       "      <td>2019/04/16</td>\n",
       "    </tr>\n",
       "  </tbody>\n",
       "</table>\n",
       "<p>489 rows × 1 columns</p>\n",
       "</div>"
      ],
      "text/plain": [
       "           date\n",
       "0    2024/02/23\n",
       "1    2024/02/21\n",
       "2    2024/02/21\n",
       "3    2024/02/17\n",
       "4    2024/02/16\n",
       "..          ...\n",
       "484  2019/08/06\n",
       "485  2019/08/02\n",
       "486  2019/07/14\n",
       "487  2019/04/18\n",
       "488  2019/04/16\n",
       "\n",
       "[489 rows x 1 columns]"
      ]
     },
     "execution_count": 12,
     "metadata": {},
     "output_type": "execute_result"
    }
   ],
   "source": [
    "df_dcinside_date = pd.to_datetime(df_dcinside[\"date\"]).dt.strftime(\"%Y/%m/%d\")\n",
    "df_dcinside_date = pd.DataFrame(df_dcinside_date)\n",
    "df_dcinside_date"
   ]
  },
  {
   "cell_type": "code",
   "execution_count": 13,
   "id": "543c2da9-9a46-428b-86bb-d77b8b254e0a",
   "metadata": {},
   "outputs": [
    {
     "data": {
      "text/plain": [
       "0      2024-02-20 16:54\n",
       "1      2024-02-20 16:32\n",
       "2      2024-02-20 10:57\n",
       "3      2024-02-20 00:26\n",
       "4      2024-02-19 17:07\n",
       "             ...       \n",
       "700    2018-12-31 08:57\n",
       "701    2018-12-31 01:44\n",
       "702    2018-12-30 01:11\n",
       "703    2018-12-27 09:44\n",
       "704    2018-12-26 19:24\n",
       "Name: date, Length: 705, dtype: object"
      ]
     },
     "execution_count": 13,
     "metadata": {},
     "output_type": "execute_result"
    }
   ],
   "source": [
    "df_helpline[\"date\"]"
   ]
  },
  {
   "cell_type": "code",
   "execution_count": 14,
   "id": "87ea9868-3c06-460b-878b-d127b65770cc",
   "metadata": {},
   "outputs": [
    {
     "data": {
      "text/html": [
       "<div>\n",
       "<style scoped>\n",
       "    .dataframe tbody tr th:only-of-type {\n",
       "        vertical-align: middle;\n",
       "    }\n",
       "\n",
       "    .dataframe tbody tr th {\n",
       "        vertical-align: top;\n",
       "    }\n",
       "\n",
       "    .dataframe thead th {\n",
       "        text-align: right;\n",
       "    }\n",
       "</style>\n",
       "<table border=\"1\" class=\"dataframe\">\n",
       "  <thead>\n",
       "    <tr style=\"text-align: right;\">\n",
       "      <th></th>\n",
       "      <th>date</th>\n",
       "    </tr>\n",
       "  </thead>\n",
       "  <tbody>\n",
       "    <tr>\n",
       "      <th>0</th>\n",
       "      <td>2024/02/20</td>\n",
       "    </tr>\n",
       "    <tr>\n",
       "      <th>1</th>\n",
       "      <td>2024/02/20</td>\n",
       "    </tr>\n",
       "    <tr>\n",
       "      <th>2</th>\n",
       "      <td>2024/02/20</td>\n",
       "    </tr>\n",
       "    <tr>\n",
       "      <th>3</th>\n",
       "      <td>2024/02/20</td>\n",
       "    </tr>\n",
       "    <tr>\n",
       "      <th>4</th>\n",
       "      <td>2024/02/19</td>\n",
       "    </tr>\n",
       "    <tr>\n",
       "      <th>...</th>\n",
       "      <td>...</td>\n",
       "    </tr>\n",
       "    <tr>\n",
       "      <th>700</th>\n",
       "      <td>2018/12/31</td>\n",
       "    </tr>\n",
       "    <tr>\n",
       "      <th>701</th>\n",
       "      <td>2018/12/31</td>\n",
       "    </tr>\n",
       "    <tr>\n",
       "      <th>702</th>\n",
       "      <td>2018/12/30</td>\n",
       "    </tr>\n",
       "    <tr>\n",
       "      <th>703</th>\n",
       "      <td>2018/12/27</td>\n",
       "    </tr>\n",
       "    <tr>\n",
       "      <th>704</th>\n",
       "      <td>2018/12/26</td>\n",
       "    </tr>\n",
       "  </tbody>\n",
       "</table>\n",
       "<p>705 rows × 1 columns</p>\n",
       "</div>"
      ],
      "text/plain": [
       "           date\n",
       "0    2024/02/20\n",
       "1    2024/02/20\n",
       "2    2024/02/20\n",
       "3    2024/02/20\n",
       "4    2024/02/19\n",
       "..          ...\n",
       "700  2018/12/31\n",
       "701  2018/12/31\n",
       "702  2018/12/30\n",
       "703  2018/12/27\n",
       "704  2018/12/26\n",
       "\n",
       "[705 rows x 1 columns]"
      ]
     },
     "execution_count": 14,
     "metadata": {},
     "output_type": "execute_result"
    }
   ],
   "source": [
    "df_helpline_date = pd.to_datetime(df_helpline[\"date\"]).dt.strftime(\"%Y/%m/%d\")\n",
    "df_helpline_date = pd.DataFrame(df_helpline_date)\n",
    "df_helpline_date"
   ]
  },
  {
   "cell_type": "code",
   "execution_count": 15,
   "id": "c1353018-00fc-4ac1-841e-0684c99aecd5",
   "metadata": {},
   "outputs": [],
   "source": [
    "# date_dataset =>>   df_NewsAll_date,df_healthjosun_date , df_komedi_date, df_mbc_date, df_dcinside_date,df_helpline_date"
   ]
  },
  {
   "cell_type": "code",
   "execution_count": 16,
   "id": "f43a0b89-c296-40a5-93ea-ef599e26ee45",
   "metadata": {},
   "outputs": [],
   "source": [
    "df_NewsAll_date[\"pubDate\"] = pd.to_datetime(df_NewsAll_date[\"pubDate\"])\n",
    "df_healthjosun_date[\"news_time\"] = pd.to_datetime(df_healthjosun_date[\"news_time\"])\n",
    "df_komedi_date[\"news_time\"] = pd.to_datetime(df_komedi_date[\"news_time\"])\n",
    "df_mbc_date[\"news_time\"] = pd.to_datetime(df_mbc_date[\"news_time\"])\n",
    "df_dcinside_date[\"date\"] = pd.to_datetime(df_dcinside_date[\"date\"])\n",
    "df_helpline_date[\"date\"] = pd.to_datetime(df_helpline_date[\"date\"])\n",
    "\n",
    "# 연도만 추출\n",
    "df_NewsAll_date[\"year\"] = df_NewsAll_date[\"pubDate\"].dt.year\n",
    "df_healthjosun_date[\"year\"] = df_healthjosun_date[\"news_time\"].dt.year\n",
    "df_komedi_date[\"year\"] = df_komedi_date[\"news_time\"].dt.year\n",
    "df_mbc_date[\"year\"] = df_mbc_date[\"news_time\"].dt.year\n",
    "df_dcinside_date[\"year\"] = df_dcinside_date[\"date\"].dt.year\n",
    "df_helpline_date[\"year\"] = df_helpline_date[\"date\"].dt.year"
   ]
  },
  {
   "cell_type": "code",
   "execution_count": 17,
   "id": "b47a2f34-79ee-4689-9d18-95115a4e9633",
   "metadata": {},
   "outputs": [
    {
     "data": {
      "text/plain": [
       "year\n",
       "2023    212\n",
       "2022    120\n",
       "2018     92\n",
       "2019     80\n",
       "2017     47\n",
       "2021     46\n",
       "2020     45\n",
       "2024     43\n",
       "2016     43\n",
       "2015     32\n",
       "2014     31\n",
       "2011     22\n",
       "2009     21\n",
       "2013     19\n",
       "2010     14\n",
       "2012     11\n",
       "2008      4\n",
       "Name: count, dtype: int64"
      ]
     },
     "execution_count": 17,
     "metadata": {},
     "output_type": "execute_result"
    }
   ],
   "source": [
    "df_komedi_date[\"year\"].value_counts()"
   ]
  },
  {
   "cell_type": "code",
   "execution_count": 18,
   "id": "2eb19c3b-bf24-4634-a744-b28addc4796a",
   "metadata": {},
   "outputs": [
    {
     "data": {
      "text/html": [
       "<div>\n",
       "<style scoped>\n",
       "    .dataframe tbody tr th:only-of-type {\n",
       "        vertical-align: middle;\n",
       "    }\n",
       "\n",
       "    .dataframe tbody tr th {\n",
       "        vertical-align: top;\n",
       "    }\n",
       "\n",
       "    .dataframe thead th {\n",
       "        text-align: right;\n",
       "    }\n",
       "</style>\n",
       "<table border=\"1\" class=\"dataframe\">\n",
       "  <thead>\n",
       "    <tr style=\"text-align: right;\">\n",
       "      <th></th>\n",
       "      <th>count</th>\n",
       "    </tr>\n",
       "    <tr>\n",
       "      <th>year</th>\n",
       "      <th></th>\n",
       "    </tr>\n",
       "  </thead>\n",
       "  <tbody>\n",
       "    <tr>\n",
       "      <th>2023</th>\n",
       "      <td>792</td>\n",
       "    </tr>\n",
       "    <tr>\n",
       "      <th>2022</th>\n",
       "      <td>387</td>\n",
       "    </tr>\n",
       "    <tr>\n",
       "      <th>2021</th>\n",
       "      <td>327</td>\n",
       "    </tr>\n",
       "    <tr>\n",
       "      <th>2019</th>\n",
       "      <td>253</td>\n",
       "    </tr>\n",
       "    <tr>\n",
       "      <th>2020</th>\n",
       "      <td>222</td>\n",
       "    </tr>\n",
       "    <tr>\n",
       "      <th>2016</th>\n",
       "      <td>161</td>\n",
       "    </tr>\n",
       "    <tr>\n",
       "      <th>2024</th>\n",
       "      <td>158</td>\n",
       "    </tr>\n",
       "    <tr>\n",
       "      <th>2018</th>\n",
       "      <td>135</td>\n",
       "    </tr>\n",
       "    <tr>\n",
       "      <th>2017</th>\n",
       "      <td>84</td>\n",
       "    </tr>\n",
       "    <tr>\n",
       "      <th>2015</th>\n",
       "      <td>32</td>\n",
       "    </tr>\n",
       "    <tr>\n",
       "      <th>2014</th>\n",
       "      <td>31</td>\n",
       "    </tr>\n",
       "    <tr>\n",
       "      <th>2011</th>\n",
       "      <td>22</td>\n",
       "    </tr>\n",
       "    <tr>\n",
       "      <th>2009</th>\n",
       "      <td>21</td>\n",
       "    </tr>\n",
       "    <tr>\n",
       "      <th>2013</th>\n",
       "      <td>19</td>\n",
       "    </tr>\n",
       "    <tr>\n",
       "      <th>2010</th>\n",
       "      <td>14</td>\n",
       "    </tr>\n",
       "    <tr>\n",
       "      <th>2012</th>\n",
       "      <td>11</td>\n",
       "    </tr>\n",
       "    <tr>\n",
       "      <th>2008</th>\n",
       "      <td>4</td>\n",
       "    </tr>\n",
       "  </tbody>\n",
       "</table>\n",
       "</div>"
      ],
      "text/plain": [
       "      count\n",
       "year       \n",
       "2023    792\n",
       "2022    387\n",
       "2021    327\n",
       "2019    253\n",
       "2020    222\n",
       "2016    161\n",
       "2024    158\n",
       "2018    135\n",
       "2017     84\n",
       "2015     32\n",
       "2014     31\n",
       "2011     22\n",
       "2009     21\n",
       "2013     19\n",
       "2010     14\n",
       "2012     11\n",
       "2008      4"
      ]
     },
     "execution_count": 18,
     "metadata": {},
     "output_type": "execute_result"
    }
   ],
   "source": [
    "#df_NewsAll_date[\"year\"] 데이터 프레임은 전부다 2024 년 데이터만 있기에 제외하겠음.\n",
    "concat_date = pd.concat([df_healthjosun_date[\"year\"],df_komedi_date[\"year\"],df_mbc_date[\"year\"],df_dcinside_date[\"year\"],df_helpline_date[\"year\"]], ignore_index=True)\n",
    "concat_date = pd.DataFrame(concat_date.value_counts())\n",
    "concat_date"
   ]
  },
  {
   "cell_type": "code",
   "execution_count": 19,
   "id": "53e97bff-f27d-4916-8e3f-06551ab9d1a6",
   "metadata": {},
   "outputs": [
    {
     "data": {
      "text/plain": [
       "<Axes: xlabel='year', ylabel='count'>"
      ]
     },
     "execution_count": 19,
     "metadata": {},
     "output_type": "execute_result"
    },
    {
     "data": {
      "image/png": "[encoded data removed]",
      "text/plain": [
       "<Figure size 640x480 with 1 Axes>"
      ]
     },
     "metadata": {},
     "output_type": "display_data"
    }
   ],
   "source": [
    "# 연도별 희귀질환 관련 게시글의 빈도수 (뉴스+커뮤니티)\n",
    "sns.barplot(data = concat_date , x = \"year\", y = \"count\")"
   ]
  },
  {
   "cell_type": "markdown",
   "id": "af948d6f-35d5-4e23-997b-68ecbff6febb",
   "metadata": {},
   "source": [
    "### 분석\n",
    "- 희귀질환에 대한 관심의 증감: 연도별 게시글 빈도를 분석하여 특정 기간에 희귀질환에 대한 관심이 증가하거나 감소하는지 확인할 수 있습니다. 이를 통해 특정 시기에 관련 이슈나 트렌드가 있었는지 파악할 수 있습니다.\n",
    "\n",
    "- 희귀질환과 관련된 키워드 및 토픽: 게시글의 내용을 분석하여 연도별로 어떤 희귀질환에 대한 관심이 높았는지, 어떤 키워드가 많이 언급되었는지 파악할 수 있습니다. 이를 통해 특정 희귀질환에 대한 관심이나 연구 트렌드를 이해할 수 있습니다.\n",
    "\n",
    "- 의료 및 연구 동향: 연도별 게시글 빈도를 분석하여 의료 및 연구 분야에서 특정 희귀질환에 대한 연구 또는 치료법 개발에 대한 관심이 증가했는지, 특정 연도에 어떤 연구 동향이 있었는지 파악할 수 있습니다.\n",
    "\n",
    "- 환자 커뮤니티 및 지원 활동: 희귀질환 환자들이나 그들을 지원하는 단체들이 연도별로 어떤 이슈에 대해 논의하고 있는지, 어떤 지원 활동을 펼치고 있는지 파악할 수 있습니다.\n",
    "\n",
    "- 마케팅 및 의사소통 전략: 연도별 게시글 빈도를 분석하여 기업이나 의료기관이 어떤 의사소통 전략을 활용했는지, 어떤 마케팅 활동을 펼쳤는지 파악할 수 있습니다."
   ]
  }
 ],
 "metadata": {
  "kernelspec": {
   "display_name": "Python 3 (ipykernel)",
   "language": "python",
   "name": "python3"
  },
  "language_info": {
   "codemirror_mode": {
    "name": "ipython",
    "version": 3
   },
   "file_extension": ".py",
   "mimetype": "text/x-python",
   "name": "python",
   "nbconvert_exporter": "python",
   "pygments_lexer": "ipython3",
   "version": "3.11.8"
  }
 },
 "nbformat": 4,
 "nbformat_minor": 5
}
